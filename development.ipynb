{
  "nbformat": 4,
  "nbformat_minor": 0,
  "metadata": {
    "colab": {
      "name": "development.ipynb",
      "provenance": []
    },
    "kernelspec": {
      "display_name": "Python 3",
      "language": "python",
      "name": "python3"
    },
    "language_info": {
      "codemirror_mode": {
        "name": "ipython",
        "version": 3
      },
      "file_extension": ".py",
      "mimetype": "text/x-python",
      "name": "python",
      "nbconvert_exporter": "python",
      "pygments_lexer": "ipython3",
      "version": "3.8.2"
    }
  },
  "cells": [
    {
      "cell_type": "markdown",
      "metadata": {
        "id": "IWt472PpHuh7"
      },
      "source": [
        "# 🔥 _DeepFire_: API Project for Fire Detection 🔥\n",
        "\n",
        "In this project, you'll apply your skills at neural network development in a new way: taking a model that you've trained yourself and deploying it to a static webpage that you can work with to upload new images and get prediction accuracy results. \n",
        "\n",
        "This project will primarily focus on your abilities in creating and testing neural network architecture development. \n",
        "\n",
        "#### **Specifically, you'll be creating a convolutional neural network that can ingest Fire Detection Image Data and predict binary class values, similarly to what we've done with multilayer perceptrons in the past.**\n",
        "\n",
        "Boilerplate and supporting architectures have been provided for a multitude of tasks ranging from data preprocessing, processing, ingestion, and predictive assessment – however, major tasks and design work will ultimately be left to you to approach and figure out ideal, optimized solutions. "
      ]
    },
    {
      "cell_type": "markdown",
      "metadata": {
        "id": "_knsRBBeHuh-"
      },
      "source": [
        "#### 🔹 General Importations\n",
        "\n",
        "As always, we'll start with importing basic tools and functions for our task."
      ]
    },
    {
      "cell_type": "code",
      "metadata": {
        "colab": {
          "base_uri": "https://localhost:8080/"
        },
        "id": "1tykE4AWHuh_",
        "outputId": "6415ed1f-bde8-4878-ada4-601a1f68b417"
      },
      "source": [
        "import numpy as np\n",
        "import matplotlib.pyplot as plt\n",
        "from sklearn import utils\n",
        "\n",
        "import os, PIL\n",
        "from glob import glob\n",
        "\n",
        "import tensorflow as tf\n",
        "\n",
        "print(tf.__version__)\n",
        "\n",
        "\n"
      ],
      "execution_count": null,
      "outputs": [
        {
          "output_type": "stream",
          "name": "stdout",
          "text": [
            "2.6.0\n"
          ]
        }
      ]
    },
    {
      "cell_type": "code",
      "metadata": {
        "colab": {
          "base_uri": "https://localhost:8080/"
        },
        "id": "u8VfyWHzKOiY",
        "outputId": "e8c85ae9-008b-4351-ae2d-bda5e901302b"
      },
      "source": [
        "from google.colab import drive\n",
        "drive.mount('/content/drive')\n",
        "!ls"
      ],
      "execution_count": null,
      "outputs": [
        {
          "output_type": "stream",
          "name": "stdout",
          "text": [
            "Mounted at /content/drive\n",
            "drive  sample_data\n"
          ]
        }
      ]
    },
    {
      "cell_type": "markdown",
      "metadata": {
        "id": "iTMQi3IgHuiB"
      },
      "source": [
        "---\n",
        "\n",
        "#### 🔎 Initializing Deep Learning Tools 🔍\n",
        "\n",
        "---\n",
        "\n",
        "> Your first task will be crucial to ensuring the successful implementation of the rest of your notebook. \n",
        "> \n",
        "> **Initialize each line with the correct function type from the TensorFlow documentation.**\n",
        "> \n",
        "> Feel free to refer throughout the notebook and across previous notebooks to see which TensorFlow architectures you've used for similar tasks. \n",
        "> \n",
        "> To give you a guide for how this should look, you've been provided with a single correct function declaration in the form of `image_dataset_from_directory` at the end of the cell. \n",
        "\n",
        "---"
      ]
    },
    {
      "cell_type": "code",
      "metadata": {
        "id": "VwJdXDbHHuiC"
      },
      "source": [
        "\"\"\" Sequential Model Architecture \"\"\"\n",
        "# Initialize the sequential model architecture here.\n",
        "Sequential = tf.keras.models.Sequential\n",
        "\n",
        "\"\"\" Data Preprocessing Functions \"\"\"\n",
        "# Initialize the experimental resizing layer here.\n",
        "Resizing = tf.keras.layers.experimental.preprocessing.Resizing\n",
        "# Initialize the experimental rescaling layer here.\n",
        "Rescaling = tf.keras.layers.experimental.preprocessing.Rescaling\n",
        "\"\"\" Data Augmentation Functions \"\"\"\n",
        "# Initialize the experimental random flipping layer here.\n",
        "RandomFlip = tf.keras.layers.experimental.preprocessing.RandomFlip\n",
        "\n",
        "\n",
        "# Initialize the experimental random rotating layer here.\n",
        "RandomRotation = tf.keras.layers.experimental.preprocessing.RandomRotation\n",
        "\n",
        "# Initialize the experimental random zooming layer here.\n",
        "RandomZoom = tf.keras.layers.experimental.preprocessing.RandomZoom\n",
        "\n",
        "\"\"\" Artificial Neural Network Layer Inventory \"\"\"\n",
        "# Initialize the dense connective layer here.\n",
        "Dense = tf.keras.layers.Dense\n",
        "# Initialize the dropout regularization layer here.\n",
        "Dropout = tf.keras.layers.Dropout\n",
        "\n",
        "\"\"\" Convolutional Neural Network Layer Inventory \"\"\"\n",
        "# Initialize the 2D convolutional layer here.\n",
        "Conv2D = tf.keras.layers.Conv2D\n",
        "# Initialize the 2D max pooling layer here.\n",
        "MaxPool2D = tf.keras.layers.MaxPool2D\n",
        "# Initialize the flattening layer here.\n",
        "Flatten = tf.keras.layers.Flatten\n",
        "\n",
        "\"\"\" Residual Network Layer Inventory \"\"\"\n",
        "# TODO: Initialize the Residual Network multilayer model here.\n",
        "# TODO: Make sure you initialize the 50-layer residual network! \n",
        "# HINT: Look up `ResNet50` for appropriate documentation. \n",
        "ResNet50 = tf.keras.applications.ResNet50\n",
        "\n",
        "\"\"\" Function to Load Images from Target Folder \"\"\"\n",
        "image_dataset_from_directory = tf.keras.preprocessing.image_dataset_from_directory"
      ],
      "execution_count": null,
      "outputs": []
    },
    {
      "cell_type": "code",
      "metadata": {
        "colab": {
          "base_uri": "https://localhost:8080/"
        },
        "id": "kfmaPvqmLLYI",
        "outputId": "5c27fe84-841f-48ef-ea16-f766e75bd739"
      },
      "source": [
        "!ls drive/MyDrive/Images\n",
        "\n"
      ],
      "execution_count": null,
      "outputs": [
        {
          "output_type": "stream",
          "name": "stdout",
          "text": [
            "Fire_Images  Normal_Images\n"
          ]
        }
      ]
    },
    {
      "cell_type": "markdown",
      "metadata": {
        "id": "rHlkfYbMHuiE"
      },
      "source": [
        "#### 🔹 Precheck Image Dataset Sizes\n",
        "\n",
        "If you've followed instructions carefully from the `project/PROJECT.md` instructions, the following dataset directory instantiations should work perfectly. \n",
        "\n",
        "If they do not, double-check to make sure you've saved your dataset to the appropriate location. "
      ]
    },
    {
      "cell_type": "code",
      "metadata": {
        "colab": {
          "base_uri": "https://localhost:8080/"
        },
        "id": "hheWpvqHHuiF",
        "outputId": "d8381746-6bfe-41d5-a38c-eda6e9d799b3"
      },
      "source": [
        "# Use the `glob.glob` function to show how many images are in each folder\n",
        "DATA_DIRECTORY = \"drive/MyDrive/Images\"\n",
        "FIRE_IMAGES_PATTERN = f\"{DATA_DIRECTORY}/Fire_Images/*\"\n",
        "NOT_FIRE_IMAGES_PATTERN = f\"{DATA_DIRECTORY}/Normal_Images/*\"\n",
        "\n",
        "print(f\"Number of fire image samples: {len(glob(FIRE_IMAGES_PATTERN))}\")\n",
        "print(f\"Number of non-fire image samples: {len(glob(NOT_FIRE_IMAGES_PATTERN))}\")"
      ],
      "execution_count": null,
      "outputs": [
        {
          "output_type": "stream",
          "name": "stdout",
          "text": [
            "Number of fire image samples: 541\n",
            "Number of non-fire image samples: 541\n"
          ]
        }
      ]
    },
    {
      "cell_type": "markdown",
      "metadata": {
        "id": "5743tbYpHuiH"
      },
      "source": [
        "#### 🔸 Load Dataset\n",
        "\n",
        "Like we've done previously, let's set our batch size and image dimensions to work seamlessly with our configured model."
      ]
    },
    {
      "cell_type": "code",
      "metadata": {
        "id": "1Uf7yOunHuiH"
      },
      "source": [
        "batch_size = 32\n",
        "IMAGE_HEIGHT = IMAGE_WIDTH = 256"
      ],
      "execution_count": null,
      "outputs": []
    },
    {
      "cell_type": "code",
      "metadata": {
        "colab": {
          "base_uri": "https://localhost:8080/"
        },
        "id": "oedJp_7kHuiI",
        "outputId": "25fd12c6-c258-4616-ba7c-99fb9004edc5"
      },
      "source": [
        "train = image_dataset_from_directory(\n",
        "    directory=DATA_DIRECTORY,\n",
        "    validation_split=0.2,\n",
        "    subset=\"training\",\n",
        "    seed=42,\n",
        "    image_size=(IMAGE_HEIGHT, IMAGE_WIDTH),\n",
        "    batch_size=batch_size\n",
        ")"
      ],
      "execution_count": null,
      "outputs": [
        {
          "output_type": "stream",
          "name": "stdout",
          "text": [
            "Found 1082 files belonging to 2 classes.\n",
            "Using 866 files for training.\n"
          ]
        }
      ]
    },
    {
      "cell_type": "code",
      "metadata": {
        "id": "9N6HGoniHuiJ"
      },
      "source": [
        "class_names = train.class_names"
      ],
      "execution_count": null,
      "outputs": []
    },
    {
      "cell_type": "code",
      "metadata": {
        "colab": {
          "base_uri": "https://localhost:8080/"
        },
        "id": "tXEbXShxHuiJ",
        "outputId": "368b6d7a-d647-4693-f196-cfc35d9bd9f1"
      },
      "source": [
        "validation = image_dataset_from_directory(\n",
        "    directory=DATA_DIRECTORY,\n",
        "    validation_split=0.2,\n",
        "    subset=\"validation\",\n",
        "    seed=42,\n",
        "    image_size=(IMAGE_HEIGHT, IMAGE_WIDTH),\n",
        "    batch_size=batch_size\n",
        ")"
      ],
      "execution_count": null,
      "outputs": [
        {
          "output_type": "stream",
          "name": "stdout",
          "text": [
            "Found 1082 files belonging to 2 classes.\n",
            "Using 216 files for validation.\n"
          ]
        }
      ]
    },
    {
      "cell_type": "markdown",
      "metadata": {
        "id": "OWp4ayfXHuiK"
      },
      "source": [
        "From these results, we can actually see that we have a major class imbalance with our fire images representing our minority class. \n",
        "\n",
        "Let's go ahead and fix that by resampling our dataset. "
      ]
    },
    {
      "cell_type": "markdown",
      "metadata": {
        "id": "nOenWDuZHuiK"
      },
      "source": [
        "#### 🔹 Resample (Oversample) Minority Class"
      ]
    },
    {
      "cell_type": "code",
      "metadata": {
        "id": "bSJdXO2eHuiL"
      },
      "source": [
        "def resample_class_distribution(train, DATA_DIRECTORY=DATA_DIRECTORY, save=True):\n",
        "    \"\"\" Helper function to resample class distribution for image dataset. \"\"\"\n",
        "    minority_class, majority_class = list(), list()\n",
        "    for images, labels, in train.take(3):\n",
        "        for image, label in zip(images, labels):\n",
        "            if label == 0:\n",
        "                minority_class.append(image.numpy().astype(np.uint8))\n",
        "            else:\n",
        "                majority_class.append(image.numpy().astype(np.uint8))\n",
        "    FIRE_SIZE = len(glob(f\"{DATA_DIRECTORY}/Fire_Images/*\"))\n",
        "    NOT_FIRE_SIZE = len(glob(f\"{DATA_DIRECTORY}/Normal_Images/*\"))\n",
        "    upsampled_images = np.array(utils.resample(minority_class, replace=True, \n",
        "                                               n_samples=(NOT_FIRE_SIZE - FIRE_SIZE),\n",
        "                                               random_state=42))\n",
        "    if save == True:\n",
        "        index = 0\n",
        "        for image in upsampled_images:\n",
        "            PATH = f\"{DATA_DIRECTORY}/Fire_Images/new_fire_{index}.png\"\n",
        "            PIL.Image.fromarray(image).save(PATH)\n",
        "            index += 1"
      ],
      "execution_count": null,
      "outputs": []
    },
    {
      "cell_type": "code",
      "metadata": {
        "id": "M7sbA0k-HuiM"
      },
      "source": [
        "resample_class_distribution(train)"
      ],
      "execution_count": null,
      "outputs": []
    },
    {
      "cell_type": "markdown",
      "metadata": {
        "id": "EVoItbTiHuiN"
      },
      "source": [
        "You should now see that additional images have been generated to balance out both classes prior to predictive modeling.\n",
        "\n",
        "**Go ahead and re-run the `Load Dataset` steps to see new generated dataset changes.**"
      ]
    },
    {
      "cell_type": "markdown",
      "metadata": {
        "id": "Q6Y8XDXcHuiO"
      },
      "source": [
        "#### 🔹 Pre-Optimize Image File Ingestion\n",
        "\n",
        "This is an accessory step to optimize image data ingestion at the cost of slightly higher memory usage. No modifications are required for this function. "
      ]
    },
    {
      "cell_type": "code",
      "metadata": {
        "id": "JK0NLcIuHuiO"
      },
      "source": [
        "def configure_performant_datasets(dataset, shuffling=None):\n",
        "    \"\"\" \n",
        "    Custom function to prefetch and cache stored elements\n",
        "    of retrieved image data to boost latency and performance\n",
        "    at the cost of higher memory usage. \n",
        "    \"\"\"\n",
        "    AUTOTUNE = tf.data.AUTOTUNE\n",
        "    # Cache and prefetch elements of input data for boosted performance\n",
        "    if not shuffling:\n",
        "        return dataset.cache().prefetch(buffer_size=AUTOTUNE)\n",
        "    else:\n",
        "        return dataset.cache().shuffle(shuffling).prefetch(buffer_size=AUTOTUNE)"
      ],
      "execution_count": null,
      "outputs": []
    },
    {
      "cell_type": "code",
      "metadata": {
        "id": "E4boxmHpHuiP"
      },
      "source": [
        "train =         configure_performant_datasets(train, shuffling=1000)\n",
        "validation =    configure_performant_datasets(validation)"
      ],
      "execution_count": null,
      "outputs": []
    },
    {
      "cell_type": "markdown",
      "metadata": {
        "id": "-RDl5iQUHuiQ"
      },
      "source": [
        "---\n",
        "\n",
        "#### 🔎 Create Resizing and Normalization Layers 🔍\n",
        "\n",
        "---\n",
        "\n",
        "> For this task, you'll declare your resizing and normalization layers using the layer architectures that you imported earlier. \n",
        ">\n",
        "> Recall that for this step, we want to accomplish two key tasks: \n",
        "> - Resize all images to the predetermined square image dimensions as indicated by `IMAGE_HEIGHT` and `IMAGE_WIDTH`.\n",
        "> - Scale all images so pixel values are within the range of (0., 1.) rather than the original (0., 255.).\n",
        ">\n",
        "> Additionally, since we're working with colorized image data, we'll want to ensure that our image rescaling/normalization step inputs images as stacks-of-three, since each image channel corresponds to red, green, and blue pixel values. \n",
        ">\n",
        "> As always, refer to previous notebook documentation on image normalization for colorization if you need help.\n",
        "\n",
        "---"
      ]
    },
    {
      "cell_type": "code",
      "metadata": {
        "id": "sts42C9EHuiQ"
      },
      "source": [
        "resizing_layer = Resizing(IMAGE_HEIGHT,IMAGE_WIDTH)\n",
        "\n",
        "normalization_layer = Rescaling(IMAGE_HEIGHT, IMAGE_WIDTH)\n",
        "\n",
        "height_factor=(0.2, 0.3)\n",
        "\n"
      ],
      "execution_count": null,
      "outputs": []
    },
    {
      "cell_type": "markdown",
      "metadata": {
        "id": "jg7Arf7VHuiR"
      },
      "source": [
        "---\n",
        "\n",
        "#### 🔎 Neural Network Architecture Creation 🔍\n",
        "\n",
        "---\n",
        "\n",
        "> Now time for the main event! \n",
        "> \n",
        "> Here, you'll be creating and instantiating your model architecture. \n",
        "> \n",
        "> For this assignment, you'll be creating a **Convolutional Neural Network** that can process Fire Detection images for predictive purposes.\n",
        "> \n",
        "> _For this project, you will not be provided guidance as to how to design and implement your CNN architecture._\n",
        "> \n",
        "> Refer to previous notebooks and challenges on CNNs as well as online documentation/resources for how to design CNN models on higher-order images. \n",
        "> \n",
        "> **This is a highly creative step, and there are no wrong answers; however, you will be assessed on your experimentation process and why you choose specific modeling layers, configurations, optimizers, regularizers, and overall design choices.**\n",
        ">\n",
        "> Light boilerplate will be provided to get you started, but as always, use any and all resources at your disposal to finish the job! \n",
        "\n",
        "---"
      ]
    },
    {
      "cell_type": "code",
      "metadata": {
        "colab": {
          "base_uri": "https://localhost:8080/"
        },
        "id": "ikFPB6x2HuiS",
        "outputId": "1f73b308-4401-47f6-e498-0926f3b7ef38"
      },
      "source": [
        "input_layer = tf.keras.layers.InputLayer(input_shape=(IMAGE_HEIGHT, IMAGE_WIDTH, 3))\n",
        "flattening_layer = tf.keras.layers.Flatten()\n",
        "dense_layer_1 = tf.keras.layers.Dense(512, activation=\"relu\")\n",
        "dense_layer_2 = tf.keras.layers.Dense(256, activation=\"relu\")\n",
        "dense_layer_3 = tf.keras.layers.Dense(128, activation=\"relu\")\n",
        "output_layer = tf.keras.layers.Dense(1, activation=\"sigmoid\")\n",
        "dropout_layer_1 = tf.keras.layers.Dropout(.25)\n",
        "dropout_layer_2 = tf.keras.layers.Dropout(.25)\n",
        "dropout_layer_3 = tf.keras.layers.Dropout(.33)\n",
        "dropout_layer_4 = tf.keras.layers.Dropout(.40)\n",
        "conv_layer_1 = tf.keras.layers.Conv2D(8, kernel_size=(3, 3),\n",
        "                               padding=\"same\",\n",
        "                               activation=\"swish\"\n",
        "                               )\n",
        "conv_layer_2 = tf.keras.layers.Conv2D(8,\n",
        "                               kernel_size=(3, 3),\n",
        "                               padding=\"same\",\n",
        "                               activation=\"swish\")\n",
        "random_flip = tf.keras.layers.RandomFlip(\"horizontal\", input_shape=(IMAGE_HEIGHT, IMAGE_WIDTH, 3))\n",
        "random_rotation = tf.keras.layers.RandomZoom(height_factor, width_factor=None, fill_mode='reflect', interpolation='bilinear',\n",
        "    seed=None, name=None)\n",
        "pooling_layer_1 = tf.keras.layers.MaxPool2D(pool_size=(2, 2))\n",
        "pooling_layer_2 = tf.keras.layers.MaxPool2D(pool_size=(2, 2))\n",
        "\n",
        "\n",
        "\"\"\" Sequential Model Architecture Setup \"\"\"\n",
        "model = Sequential()\n",
        "\n",
        "\"\"\" CNN Layering Steps \"\"\"\n",
        "# TODO: Instantiate and Add Layers to Create a Functional CNN for Image Recognition.\n",
        "# TODO: Be Sure to Use as Many Imported Layers at the Top of the Notebook as Possible.\n",
        "model.add(input_layer) \n",
        "# gonna augment my data here then do everything else\n",
        "# model.add(random_flip)\n",
        "# model.add(random_rotation)\n",
        "model.add(resizing_layer)\n",
        "model.add(normalization_layer)\n",
        "\n",
        "\n",
        "model.add(conv_layer_1)\n",
        "model.add(pooling_layer_1)\n",
        "\n",
        "# model.add(conv_layer_2)\n",
        "# model.add(pooling_layer_2)\n",
        "# model.add(dropout_layer_2)\n",
        "\n",
        "model.add(flattening_layer)\n",
        "model.add(dense_layer_1)\n",
        "model.add(dropout_layer_3)\n",
        "model.add(dense_layer_2)\n",
        "model.add(dropout_layer_4)\n",
        "model.add(dense_layer_3)\n",
        "model.add(output_layer)\n",
        "\n",
        "\"\"\" CNN Architecture Summarization \"\"\"\n",
        "# TODO: Save Screenshots of your Model Summaries to put in this Project Subfolder.\n",
        "model.summary()"
      ],
      "execution_count": null,
      "outputs": [
        {
          "output_type": "stream",
          "name": "stdout",
          "text": [
            "Model: \"sequential\"\n",
            "_________________________________________________________________\n",
            "Layer (type)                 Output Shape              Param #   \n",
            "=================================================================\n",
            "resizing (Resizing)          (None, 256, 256, 3)       0         \n",
            "_________________________________________________________________\n",
            "rescaling (Rescaling)        (None, 256, 256, 3)       0         \n",
            "_________________________________________________________________\n",
            "conv2d (Conv2D)              (None, 256, 256, 8)       224       \n",
            "_________________________________________________________________\n",
            "max_pooling2d (MaxPooling2D) (None, 128, 128, 8)       0         \n",
            "_________________________________________________________________\n",
            "flatten (Flatten)            (None, 131072)            0         \n",
            "_________________________________________________________________\n",
            "dense (Dense)                (None, 512)               67109376  \n",
            "_________________________________________________________________\n",
            "dropout_2 (Dropout)          (None, 512)               0         \n",
            "_________________________________________________________________\n",
            "dense_1 (Dense)              (None, 256)               131328    \n",
            "_________________________________________________________________\n",
            "dropout_3 (Dropout)          (None, 256)               0         \n",
            "_________________________________________________________________\n",
            "dense_2 (Dense)              (None, 128)               32896     \n",
            "_________________________________________________________________\n",
            "dense_3 (Dense)              (None, 1)                 129       \n",
            "=================================================================\n",
            "Total params: 67,273,953\n",
            "Trainable params: 67,273,953\n",
            "Non-trainable params: 0\n",
            "_________________________________________________________________\n"
          ]
        }
      ]
    },
    {
      "cell_type": "markdown",
      "metadata": {
        "id": "F1S8WpinHuiT"
      },
      "source": [
        "---\n",
        "\n",
        "#### 🔎 Neural Network Configuration 🔍\n",
        "\n",
        "---\n",
        "\n",
        "> For this task, you'll compile your CNN architecture with appropriate parameters for loss calculation, optimization, and accuracy metrics.\n",
        "> \n",
        "> As always, refer to previous notebooks, tutorials, and documentation for best-case parameters to use for image recognition models.\n",
        "\n",
        "---"
      ]
    },
    {
      "cell_type": "code",
      "metadata": {
        "id": "X26yvQtHHuiT"
      },
      "source": [
        "\"\"\" CNN Model Compilation \"\"\"\n",
        "# TODO: Compile Model with Appropriate Loss, Optimizer, and Metrics-Based Parameters\n",
        "model.compile(\n",
        "    loss=\"binary_crossentropy\",\n",
        "    optimizer=\"adam\",\n",
        "    metrics=[\"accuracy\"]\n",
        ")"
      ],
      "execution_count": null,
      "outputs": []
    },
    {
      "cell_type": "code",
      "metadata": {
        "id": "rwwhoi-lojLX"
      },
      "source": [
        ""
      ],
      "execution_count": null,
      "outputs": []
    },
    {
      "cell_type": "markdown",
      "metadata": {
        "id": "exJkIaG5HuiU"
      },
      "source": [
        "---\n",
        "\n",
        "#### 🔎 CNN Model Predictive Fitness 🔍\n",
        "\n",
        "---\n",
        "\n",
        "> For this task, you'll be taking your compiled model and fitting it against your training and validation data.\n",
        "> \n",
        "> Keep in mind that there are several opportunities for further optimizing your workflow with techniques such as batch normalization, generator-based data feeding, etc. \n",
        "> \n",
        "> As always, refer to previous notebooks, tutorials, and documentation for designing model fitness with validation data. \n",
        "\n",
        "---"
      ]
    },
    {
      "cell_type": "code",
      "metadata": {
        "id": "jWn_LXQrHuiV",
        "colab": {
          "base_uri": "https://localhost:8080/",
          "height": 375
        },
        "outputId": "b469f9fe-3a4e-4831-c233-d8f8bc24263e"
      },
      "source": [
        "\"\"\" CNN Model Fitness and History Extraction \"\"\"\n",
        "# TODO: Fit Model Against Training and Validation Data with Appropriate Epochs\n",
        "epochs = 15\n",
        "history = model.fit(\n",
        "    train,\n",
        "    validation_data= validation,\n",
        "    epochs=epochs\n",
        ")"
      ],
      "execution_count": null,
      "outputs": [
        {
          "output_type": "stream",
          "name": "stdout",
          "text": [
            "Epoch 1/15\n"
          ]
        },
        {
          "output_type": "error",
          "ename": "KeyboardInterrupt",
          "evalue": "ignored",
          "traceback": [
            "\u001b[0;31m---------------------------------------------------------------------------\u001b[0m",
            "\u001b[0;31mKeyboardInterrupt\u001b[0m                         Traceback (most recent call last)",
            "\u001b[0;32m<ipython-input-17-50d9141c6bac>\u001b[0m in \u001b[0;36m<module>\u001b[0;34m()\u001b[0m\n\u001b[1;32m      5\u001b[0m     \u001b[0mtrain\u001b[0m\u001b[0;34m,\u001b[0m\u001b[0;34m\u001b[0m\u001b[0;34m\u001b[0m\u001b[0m\n\u001b[1;32m      6\u001b[0m     \u001b[0mvalidation_data\u001b[0m\u001b[0;34m=\u001b[0m \u001b[0mvalidation\u001b[0m\u001b[0;34m,\u001b[0m\u001b[0;34m\u001b[0m\u001b[0;34m\u001b[0m\u001b[0m\n\u001b[0;32m----> 7\u001b[0;31m     \u001b[0mepochs\u001b[0m\u001b[0;34m=\u001b[0m\u001b[0mepochs\u001b[0m\u001b[0;34m\u001b[0m\u001b[0;34m\u001b[0m\u001b[0m\n\u001b[0m\u001b[1;32m      8\u001b[0m )\n",
            "\u001b[0;32m/usr/local/lib/python3.7/dist-packages/keras/engine/training.py\u001b[0m in \u001b[0;36mfit\u001b[0;34m(self, x, y, batch_size, epochs, verbose, callbacks, validation_split, validation_data, shuffle, class_weight, sample_weight, initial_epoch, steps_per_epoch, validation_steps, validation_batch_size, validation_freq, max_queue_size, workers, use_multiprocessing)\u001b[0m\n\u001b[1;32m   1182\u001b[0m                 _r=1):\n\u001b[1;32m   1183\u001b[0m               \u001b[0mcallbacks\u001b[0m\u001b[0;34m.\u001b[0m\u001b[0mon_train_batch_begin\u001b[0m\u001b[0;34m(\u001b[0m\u001b[0mstep\u001b[0m\u001b[0;34m)\u001b[0m\u001b[0;34m\u001b[0m\u001b[0;34m\u001b[0m\u001b[0m\n\u001b[0;32m-> 1184\u001b[0;31m               \u001b[0mtmp_logs\u001b[0m \u001b[0;34m=\u001b[0m \u001b[0mself\u001b[0m\u001b[0;34m.\u001b[0m\u001b[0mtrain_function\u001b[0m\u001b[0;34m(\u001b[0m\u001b[0miterator\u001b[0m\u001b[0;34m)\u001b[0m\u001b[0;34m\u001b[0m\u001b[0;34m\u001b[0m\u001b[0m\n\u001b[0m\u001b[1;32m   1185\u001b[0m               \u001b[0;32mif\u001b[0m \u001b[0mdata_handler\u001b[0m\u001b[0;34m.\u001b[0m\u001b[0mshould_sync\u001b[0m\u001b[0;34m:\u001b[0m\u001b[0;34m\u001b[0m\u001b[0;34m\u001b[0m\u001b[0m\n\u001b[1;32m   1186\u001b[0m                 \u001b[0mcontext\u001b[0m\u001b[0;34m.\u001b[0m\u001b[0masync_wait\u001b[0m\u001b[0;34m(\u001b[0m\u001b[0;34m)\u001b[0m\u001b[0;34m\u001b[0m\u001b[0;34m\u001b[0m\u001b[0m\n",
            "\u001b[0;32m/usr/local/lib/python3.7/dist-packages/tensorflow/python/eager/def_function.py\u001b[0m in \u001b[0;36m__call__\u001b[0;34m(self, *args, **kwds)\u001b[0m\n\u001b[1;32m    883\u001b[0m \u001b[0;34m\u001b[0m\u001b[0m\n\u001b[1;32m    884\u001b[0m       \u001b[0;32mwith\u001b[0m \u001b[0mOptionalXlaContext\u001b[0m\u001b[0;34m(\u001b[0m\u001b[0mself\u001b[0m\u001b[0;34m.\u001b[0m\u001b[0m_jit_compile\u001b[0m\u001b[0;34m)\u001b[0m\u001b[0;34m:\u001b[0m\u001b[0;34m\u001b[0m\u001b[0;34m\u001b[0m\u001b[0m\n\u001b[0;32m--> 885\u001b[0;31m         \u001b[0mresult\u001b[0m \u001b[0;34m=\u001b[0m \u001b[0mself\u001b[0m\u001b[0;34m.\u001b[0m\u001b[0m_call\u001b[0m\u001b[0;34m(\u001b[0m\u001b[0;34m*\u001b[0m\u001b[0margs\u001b[0m\u001b[0;34m,\u001b[0m \u001b[0;34m**\u001b[0m\u001b[0mkwds\u001b[0m\u001b[0;34m)\u001b[0m\u001b[0;34m\u001b[0m\u001b[0;34m\u001b[0m\u001b[0m\n\u001b[0m\u001b[1;32m    886\u001b[0m \u001b[0;34m\u001b[0m\u001b[0m\n\u001b[1;32m    887\u001b[0m       \u001b[0mnew_tracing_count\u001b[0m \u001b[0;34m=\u001b[0m \u001b[0mself\u001b[0m\u001b[0;34m.\u001b[0m\u001b[0mexperimental_get_tracing_count\u001b[0m\u001b[0;34m(\u001b[0m\u001b[0;34m)\u001b[0m\u001b[0;34m\u001b[0m\u001b[0;34m\u001b[0m\u001b[0m\n",
            "\u001b[0;32m/usr/local/lib/python3.7/dist-packages/tensorflow/python/eager/def_function.py\u001b[0m in \u001b[0;36m_call\u001b[0;34m(self, *args, **kwds)\u001b[0m\n\u001b[1;32m    948\u001b[0m         \u001b[0;31m# Lifting succeeded, so variables are initialized and we can run the\u001b[0m\u001b[0;34m\u001b[0m\u001b[0;34m\u001b[0m\u001b[0;34m\u001b[0m\u001b[0m\n\u001b[1;32m    949\u001b[0m         \u001b[0;31m# stateless function.\u001b[0m\u001b[0;34m\u001b[0m\u001b[0;34m\u001b[0m\u001b[0;34m\u001b[0m\u001b[0m\n\u001b[0;32m--> 950\u001b[0;31m         \u001b[0;32mreturn\u001b[0m \u001b[0mself\u001b[0m\u001b[0;34m.\u001b[0m\u001b[0m_stateless_fn\u001b[0m\u001b[0;34m(\u001b[0m\u001b[0;34m*\u001b[0m\u001b[0margs\u001b[0m\u001b[0;34m,\u001b[0m \u001b[0;34m**\u001b[0m\u001b[0mkwds\u001b[0m\u001b[0;34m)\u001b[0m\u001b[0;34m\u001b[0m\u001b[0;34m\u001b[0m\u001b[0m\n\u001b[0m\u001b[1;32m    951\u001b[0m     \u001b[0;32melse\u001b[0m\u001b[0;34m:\u001b[0m\u001b[0;34m\u001b[0m\u001b[0;34m\u001b[0m\u001b[0m\n\u001b[1;32m    952\u001b[0m       \u001b[0m_\u001b[0m\u001b[0;34m,\u001b[0m \u001b[0m_\u001b[0m\u001b[0;34m,\u001b[0m \u001b[0m_\u001b[0m\u001b[0;34m,\u001b[0m \u001b[0mfiltered_flat_args\u001b[0m \u001b[0;34m=\u001b[0m\u001b[0;31m \u001b[0m\u001b[0;31m\\\u001b[0m\u001b[0;34m\u001b[0m\u001b[0;34m\u001b[0m\u001b[0m\n",
            "\u001b[0;32m/usr/local/lib/python3.7/dist-packages/tensorflow/python/eager/function.py\u001b[0m in \u001b[0;36m__call__\u001b[0;34m(self, *args, **kwargs)\u001b[0m\n\u001b[1;32m   3038\u001b[0m        filtered_flat_args) = self._maybe_define_function(args, kwargs)\n\u001b[1;32m   3039\u001b[0m     return graph_function._call_flat(\n\u001b[0;32m-> 3040\u001b[0;31m         filtered_flat_args, captured_inputs=graph_function.captured_inputs)  # pylint: disable=protected-access\n\u001b[0m\u001b[1;32m   3041\u001b[0m \u001b[0;34m\u001b[0m\u001b[0m\n\u001b[1;32m   3042\u001b[0m   \u001b[0;34m@\u001b[0m\u001b[0mproperty\u001b[0m\u001b[0;34m\u001b[0m\u001b[0;34m\u001b[0m\u001b[0m\n",
            "\u001b[0;32m/usr/local/lib/python3.7/dist-packages/tensorflow/python/eager/function.py\u001b[0m in \u001b[0;36m_call_flat\u001b[0;34m(self, args, captured_inputs, cancellation_manager)\u001b[0m\n\u001b[1;32m   1962\u001b[0m       \u001b[0;31m# No tape is watching; skip to running the function.\u001b[0m\u001b[0;34m\u001b[0m\u001b[0;34m\u001b[0m\u001b[0;34m\u001b[0m\u001b[0m\n\u001b[1;32m   1963\u001b[0m       return self._build_call_outputs(self._inference_function.call(\n\u001b[0;32m-> 1964\u001b[0;31m           ctx, args, cancellation_manager=cancellation_manager))\n\u001b[0m\u001b[1;32m   1965\u001b[0m     forward_backward = self._select_forward_and_backward_functions(\n\u001b[1;32m   1966\u001b[0m         \u001b[0margs\u001b[0m\u001b[0;34m,\u001b[0m\u001b[0;34m\u001b[0m\u001b[0;34m\u001b[0m\u001b[0m\n",
            "\u001b[0;32m/usr/local/lib/python3.7/dist-packages/tensorflow/python/eager/function.py\u001b[0m in \u001b[0;36mcall\u001b[0;34m(self, ctx, args, cancellation_manager)\u001b[0m\n\u001b[1;32m    594\u001b[0m               \u001b[0minputs\u001b[0m\u001b[0;34m=\u001b[0m\u001b[0margs\u001b[0m\u001b[0;34m,\u001b[0m\u001b[0;34m\u001b[0m\u001b[0;34m\u001b[0m\u001b[0m\n\u001b[1;32m    595\u001b[0m               \u001b[0mattrs\u001b[0m\u001b[0;34m=\u001b[0m\u001b[0mattrs\u001b[0m\u001b[0;34m,\u001b[0m\u001b[0;34m\u001b[0m\u001b[0;34m\u001b[0m\u001b[0m\n\u001b[0;32m--> 596\u001b[0;31m               ctx=ctx)\n\u001b[0m\u001b[1;32m    597\u001b[0m         \u001b[0;32melse\u001b[0m\u001b[0;34m:\u001b[0m\u001b[0;34m\u001b[0m\u001b[0;34m\u001b[0m\u001b[0m\n\u001b[1;32m    598\u001b[0m           outputs = execute.execute_with_cancellation(\n",
            "\u001b[0;32m/usr/local/lib/python3.7/dist-packages/tensorflow/python/eager/execute.py\u001b[0m in \u001b[0;36mquick_execute\u001b[0;34m(op_name, num_outputs, inputs, attrs, ctx, name)\u001b[0m\n\u001b[1;32m     58\u001b[0m     \u001b[0mctx\u001b[0m\u001b[0;34m.\u001b[0m\u001b[0mensure_initialized\u001b[0m\u001b[0;34m(\u001b[0m\u001b[0;34m)\u001b[0m\u001b[0;34m\u001b[0m\u001b[0;34m\u001b[0m\u001b[0m\n\u001b[1;32m     59\u001b[0m     tensors = pywrap_tfe.TFE_Py_Execute(ctx._handle, device_name, op_name,\n\u001b[0;32m---> 60\u001b[0;31m                                         inputs, attrs, num_outputs)\n\u001b[0m\u001b[1;32m     61\u001b[0m   \u001b[0;32mexcept\u001b[0m \u001b[0mcore\u001b[0m\u001b[0;34m.\u001b[0m\u001b[0m_NotOkStatusException\u001b[0m \u001b[0;32mas\u001b[0m \u001b[0me\u001b[0m\u001b[0;34m:\u001b[0m\u001b[0;34m\u001b[0m\u001b[0;34m\u001b[0m\u001b[0m\n\u001b[1;32m     62\u001b[0m     \u001b[0;32mif\u001b[0m \u001b[0mname\u001b[0m \u001b[0;32mis\u001b[0m \u001b[0;32mnot\u001b[0m \u001b[0;32mNone\u001b[0m\u001b[0;34m:\u001b[0m\u001b[0;34m\u001b[0m\u001b[0;34m\u001b[0m\u001b[0m\n",
            "\u001b[0;31mKeyboardInterrupt\u001b[0m: "
          ]
        }
      ]
    },
    {
      "cell_type": "markdown",
      "metadata": {
        "id": "_6xrhaZCHuiW"
      },
      "source": [
        "---\n",
        "\n",
        "#### 🔎 CNN Model Evaluation 🔍\n",
        "\n",
        "---\n",
        "\n",
        "> For this task, you'll evaluate your CNN model using the validation dataset in order to calculate overall validation accuracy and loss.\n",
        "> \n",
        "> As always, refer to previous notebooks, tutorials, and documentation for using the proper evaluation function for model prediction. \n",
        "\n",
        "---"
      ]
    },
    {
      "cell_type": "code",
      "metadata": {
        "id": "-DE3U1-sHuiX"
      },
      "source": [
        "\"\"\" CNN Model Predictive Evaluation \"\"\"\n",
        "# TODO: Evaluate Model Against Validation Dataset\n",
        "model.evaluate(train, validation)"
      ],
      "execution_count": null,
      "outputs": []
    },
    {
      "cell_type": "markdown",
      "metadata": {
        "id": "xFcYOgKNHuiY"
      },
      "source": [
        "#### 🔹 Model State Saving\n",
        "\n",
        "When you are satisfied with your model state configuration and performance and are ready to export the model's weights and parameters for deployment purposes, simply run the following function! "
      ]
    },
    {
      "cell_type": "code",
      "metadata": {
        "id": "dVewfbosHuiZ"
      },
      "source": [
        "def save_model(model, file_name, save_format):\n",
        "    \"\"\" \n",
        "    Save the model weights and architecture.\n",
        "    \n",
        "    Parameters: \n",
        "       model(Model): keras Model object being saved\n",
        "       file_name(str): name of the Hadoop file where\n",
        "                       the whole model will be saved\n",
        "       save_format(str): Indicates whether to save the model to the default\n",
        "                         SavedModel('tf'), or HDF5('h5'), or \n",
        "                         use both H5 and JSON ('composite') formats. \n",
        "       Returns: None\n",
        "    \"\"\"\n",
        "    MODEL_DIRECTORY = \"../model\"\n",
        "    def __save_as_composite():\n",
        "      \"\"\" Saving the model as H5 (for params) + JSON (for the architecture) \"\"\"\n",
        "      # Save the weights\n",
        "      model.save_weights(f'{MODEL_DIRECTORY}/{file_name}_params.h5')\n",
        "      # Save the architecture\n",
        "      with open(f'{MODEL_DIRECTORY}/{file_name}_layers.json', 'w') as f:\n",
        "          f.write(model.to_json())\n",
        "    \n",
        "    def __save_as_h5():\n",
        "      \"\"\" Option 2: Saving whole model as a single H5 file (more storage) \"\"\"\n",
        "      model.save(f\"{MODEL_DIRECTORY}/{file_name}.h5\", save_format=save_format)\n",
        "\n",
        "    # Call the appropiate save func\n",
        "    if save_format == 'h5':\n",
        "      __save_as_h5()\n",
        "    elif save_format == 'composite':\n",
        "      __save_as_composite()\n",
        "    else:  # save as a SavedModel\n",
        "      model.save(file_name)"
      ],
      "execution_count": null,
      "outputs": []
    },
    {
      "cell_type": "code",
      "metadata": {
        "id": "530y27PwHuia"
      },
      "source": [
        "save_model(model, \"fire_cnn_classifier\", \"composite\")"
      ],
      "execution_count": null,
      "outputs": []
    },
    {
      "cell_type": "markdown",
      "metadata": {
        "id": "fQRpMFLPHuic"
      },
      "source": [
        "Now go ahead and complete the remaining tasks in `project/PROJECT.md` to complete this project successfully! "
      ]
    },
    {
      "cell_type": "markdown",
      "metadata": {
        "id": "bC9t4Kq3Huic"
      },
      "source": [
        "---\n",
        "---\n",
        "---"
      ]
    }
  ]
}